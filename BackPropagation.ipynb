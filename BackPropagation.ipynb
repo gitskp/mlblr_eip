{
 "cells": [
  {
   "cell_type": "code",
   "execution_count": 1,
   "metadata": {},
   "outputs": [],
   "source": [
    "# import the required library\n",
    "import numpy as np\n",
    "import math"
   ]
  },
  {
   "cell_type": "code",
   "execution_count": 2,
   "metadata": {},
   "outputs": [],
   "source": [
    "# sigmoid function\n",
    "def sigmoid(x):\n",
    "    return 1/(1+math.exp(-x))"
   ]
  },
  {
   "cell_type": "code",
   "execution_count": 3,
   "metadata": {},
   "outputs": [
    {
     "name": "stdout",
     "output_type": "stream",
     "text": [
      "0.837670961661056\n"
     ]
    }
   ],
   "source": [
    "print(sigmoid(1.641))"
   ]
  },
  {
   "cell_type": "code",
   "execution_count": 4,
   "metadata": {},
   "outputs": [],
   "source": [
    "#derivative sigmoid function\n",
    "\n",
    "def derivative_sigmoid(y):\n",
    "    derivative = sigmoid(y)*(1-sigmoid(y))\n",
    "    return derivative"
   ]
  },
  {
   "cell_type": "code",
   "execution_count": 5,
   "metadata": {},
   "outputs": [
    {
     "name": "stdout",
     "output_type": "stream",
     "text": [
      "0.19661193324148185\n"
     ]
    }
   ],
   "source": [
    "print(derivative_sigmoid(1))"
   ]
  },
  {
   "cell_type": "code",
   "execution_count": 6,
   "metadata": {},
   "outputs": [],
   "source": [
    "#Initializing Input Variables(X) and output variable(Y)\n",
    "\n",
    "X=np.array([[1,0,1,0],[1,0,1,1],[0,1,0,1]])\n",
    "Y=np.array([[1],[1],[0]])"
   ]
  },
  {
   "cell_type": "code",
   "execution_count": 7,
   "metadata": {},
   "outputs": [],
   "source": [
    "#Initializing Weights and biases with random values\n",
    "\n",
    "Wh=np.random.rand(4,3)\n",
    "wout=np.random.rand(3,1)\n",
    "bh=np.random.rand(1,3)\n",
    "bout=np.random.rand(1,1)"
   ]
  },
  {
   "cell_type": "code",
   "execution_count": 8,
   "metadata": {},
   "outputs": [
    {
     "name": "stdout",
     "output_type": "stream",
     "text": [
      "[[ 0.88858567  0.40168657  0.33479754]\n",
      " [ 0.26728616  0.39384678  0.18237431]\n",
      " [ 0.71399387  0.31955421  0.41600759]\n",
      " [ 0.53897779  0.48919964  0.76317977]] [[ 0.37212866]\n",
      " [ 0.06797963]\n",
      " [ 0.90672093]] [[ 0.50933602  0.02365389  0.14609858]] [[ 0.46972155]]\n"
     ]
    }
   ],
   "source": [
    "print(Wh, wout, bh, bout)"
   ]
  },
  {
   "cell_type": "code",
   "execution_count": 12,
   "metadata": {},
   "outputs": [
    {
     "name": "stdout",
     "output_type": "stream",
     "text": [
      "[[ 2.11191556  0.74489467  0.89690371]\n",
      " [ 2.65089335  1.23409431  1.66008348]\n",
      " [ 1.31559997  0.90670031  1.09165266]]\n"
     ]
    }
   ],
   "source": [
    "#calculate hidden layer input\n",
    "\n",
    "hidden_layer_input = np.dot(X,Wh)+bh\n",
    "print(hidden_layer_input)"
   ]
  },
  {
   "cell_type": "code",
   "execution_count": 15,
   "metadata": {},
   "outputs": [
    {
     "name": "stdout",
     "output_type": "stream",
     "text": [
      "[[ 0.89205593  0.67806526  0.7103128 ]\n",
      " [ 0.93406603  0.77453437  0.84024921]\n",
      " [ 0.78844872  0.71232447  0.7486928 ]]\n"
     ]
    }
   ],
   "source": [
    "#performing nonlinear activation on hidden linear input(using sigmoid function).\n",
    "\n",
    "hidden_layer_activation=np.vectorize(sigmoid)(hidden_layer_input)\n",
    "print(hidden_layer_activation)"
   ]
  },
  {
   "cell_type": "code",
   "execution_count": 16,
   "metadata": {},
   "outputs": [
    {
     "name": "stdout",
     "output_type": "stream",
     "text": [
      "[[ 1.49183123]\n",
      " [ 1.6318384 ]\n",
      " [ 1.49040491]]\n",
      "[[ 0.81635297]\n",
      " [ 0.83642132]\n",
      " [ 0.81613904]]\n"
     ]
    }
   ],
   "source": [
    "#perform linear and nonlinear transformation of hidden layer at output layer\n",
    "\n",
    "output_layer_input = np.dot(hidden_layer_activation,wout)+bout\n",
    "output = np.vectorize(sigmoid)(output_layer_input)\n",
    "print(output_layer_input)\n",
    "print(output)"
   ]
  },
  {
   "cell_type": "code",
   "execution_count": 17,
   "metadata": {},
   "outputs": [
    {
     "name": "stdout",
     "output_type": "stream",
     "text": [
      "[[ 0.18364703]\n",
      " [ 0.16357868]\n",
      " [-0.81613904]]\n"
     ]
    }
   ],
   "source": [
    "#calculate the gradient of error at output layer\n",
    "\n",
    "Error = Y-output\n",
    "print(Error)"
   ]
  },
  {
   "cell_type": "code",
   "execution_count": 18,
   "metadata": {},
   "outputs": [
    {
     "name": "stdout",
     "output_type": "stream",
     "text": [
      "[[ 0.2125726 ]\n",
      " [ 0.21091037]\n",
      " [ 0.21259019]]\n",
      "[[ 0.20618754  0.22333091  0.22093989]\n",
      " [ 0.20251982  0.2159594   0.21059072]\n",
      " [ 0.21484445  0.22078821  0.21799701]]\n"
     ]
    }
   ],
   "source": [
    "#compute slope at output and hidden layer\n",
    "\n",
    "slope_output_layer = np.vectorize(derivative_sigmoid)(output)\n",
    "slope_hidden_layer= np.vectorize(derivative_sigmoid)(hidden_layer_activation)\n",
    "print(slope_output_layer)\n",
    "print(slope_hidden_layer)"
   ]
  },
  {
   "cell_type": "code",
   "execution_count": 19,
   "metadata": {},
   "outputs": [
    {
     "name": "stdout",
     "output_type": "stream",
     "text": [
      "[[ 0.00390383]\n",
      " [ 0.00345004]\n",
      " [-0.01735032]]\n"
     ]
    }
   ],
   "source": [
    "#compute delta at output layer\n",
    "\n",
    "lr=0.1\n",
    "d_output = Error*slope_output_layer*lr\n",
    "print(d_output)"
   ]
  },
  {
   "cell_type": "code",
   "execution_count": 20,
   "metadata": {},
   "outputs": [
    {
     "name": "stdout",
     "output_type": "stream",
     "text": [
      "[[ 0.00145273  0.00026538  0.00353969]\n",
      " [ 0.00128386  0.00023453  0.00312823]\n",
      " [-0.00645655 -0.00117947 -0.01573189]]\n"
     ]
    }
   ],
   "source": [
    "#calculate Error at hidden layer\n",
    "\n",
    "wout_transpose = np.transpose(wout)\n",
    "Error_hidden_layer=np.dot(d_output, wout_transpose)\n",
    "print(Error_hidden_layer)"
   ]
  },
  {
   "cell_type": "code",
   "execution_count": 21,
   "metadata": {},
   "outputs": [
    {
     "name": "stdout",
     "output_type": "stream",
     "text": [
      "[[  2.99534407e-04   5.92678022e-05   7.82057982e-04]\n",
      " [  2.60007141e-04   5.06495442e-05   6.58775594e-04]\n",
      " [ -1.38715382e-03  -2.60412638e-04  -3.42950589e-03]]\n"
     ]
    }
   ],
   "source": [
    "#compute delta hidden layer\n",
    "\n",
    "d_hidden_layer = Error_hidden_layer * slope_hidden_layer\n",
    "print(d_hidden_layer)"
   ]
  },
  {
   "cell_type": "code",
   "execution_count": 22,
   "metadata": {},
   "outputs": [
    {
     "name": "stdout",
     "output_type": "stream",
     "text": [
      "[[ 0.37143117]\n",
      " [ 0.06727565]\n",
      " [ 0.90598911]]\n",
      "[[ 0.88864163  0.40169756  0.33494162]\n",
      " [ 0.26714744  0.39382074  0.18203136]\n",
      " [ 0.71404982  0.3195652   0.41615167]\n",
      " [ 0.53886508  0.48917866  0.7629027 ]]\n"
     ]
    }
   ],
   "source": [
    "#update weight at both output and hidden layer\n",
    "\n",
    "hidden_layer_activation_transpose=np.transpose(hidden_layer_activation)\n",
    "wout=wout+np.dot(hidden_layer_activation_transpose, d_output) *lr \n",
    "print(wout)\n",
    "X_transpose = np.transpose(X)\n",
    "Wh = Wh + np.dot(X_transpose, d_hidden_layer) *lr \n",
    "print(Wh)"
   ]
  },
  {
   "cell_type": "code",
   "execution_count": 23,
   "metadata": {},
   "outputs": [
    {
     "name": "stdout",
     "output_type": "stream",
     "text": [
      "[[ 0.50925326  0.02363885  0.14589971]] [[ 0.46872191]]\n"
     ]
    }
   ],
   "source": [
    "#update biases at both output and hidden layer\n",
    "\n",
    "bh = bh + np.sum(d_hidden_layer, axis=0)*lr\n",
    "bout=bout+ np.sum(d_output, axis=0)*lr\n",
    "print(bh,bout)"
   ]
  },
  {
   "cell_type": "code",
   "execution_count": null,
   "metadata": {},
   "outputs": [],
   "source": []
  }
 ],
 "metadata": {
  "kernelspec": {
   "display_name": "Python 3",
   "language": "python",
   "name": "python3"
  },
  "language_info": {
   "codemirror_mode": {
    "name": "ipython",
    "version": 3
   },
   "file_extension": ".py",
   "mimetype": "text/x-python",
   "name": "python",
   "nbconvert_exporter": "python",
   "pygments_lexer": "ipython3",
   "version": "3.6.4"
  }
 },
 "nbformat": 4,
 "nbformat_minor": 2
}
